{
  "cells": [
    {
      "cell_type": "markdown",
      "metadata": {
        "id": "vfMlEtLUFGYj"
      },
      "source": [
        "# `Pandas`\n",
        "\n",
        "![image.png](data:image/png;base64,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)\n",
        "\n",
        "\n",
        "The `pandas` library is practically use for any data manipulation task in python. As a result, learning `pandas` is a great skill to have as data scientists. \n",
        "\n",
        "During this class time we will be using the `colleges_dataset_not_cleaned.csv` datset we made last class after web scraping money.com \n",
        "\n",
        "Before we do anything lets first explore the datasets first (visually)"
      ]
    },
    {
      "cell_type": "markdown",
      "metadata": {
        "id": "ebuJ1B1gNCA0"
      },
      "source": [
        "Lets first start off by importing the `pandas` and `numpy` libraries"
      ]
    },
    {
      "cell_type": "code",
      "execution_count": null,
      "metadata": {
        "id": "X81PeRmbLRUh"
      },
      "outputs": [],
      "source": [
        "import pandas as pd\n",
        "pd.options.display.max_columns = 30\n",
        "import numpy as np"
      ]
    },
    {
      "cell_type": "markdown",
      "metadata": {
        "id": "25lnqwTXFGYq"
      },
      "source": [
        "Before we can even do anything to this dataset we need to load it. Load in the dataset using `pandas` below."
      ]
    },
    {
      "cell_type": "code",
      "execution_count": null,
      "metadata": {
        "id": "PUzeTyL40jnK"
      },
      "outputs": [],
      "source": []
    },
    {
      "cell_type": "markdown",
      "metadata": {
        "id": "cugjn0K7FGYr"
      },
      "source": [
        "## Exploring the Data\n",
        "\n",
        "Awesome, now lets explore the datset with `pandas`"
      ]
    },
    {
      "cell_type": "code",
      "execution_count": null,
      "metadata": {
        "id": "fDws5BrX0py1"
      },
      "outputs": [],
      "source": [
        "college_df.head()"
      ]
    },
    {
      "cell_type": "code",
      "execution_count": null,
      "metadata": {
        "id": "ibko-bmK5aOY"
      },
      "outputs": [],
      "source": [
        "college_df.shape"
      ]
    },
    {
      "cell_type": "code",
      "execution_count": null,
      "metadata": {
        "id": "ju0S2LIvFGYs"
      },
      "outputs": [],
      "source": [
        "college_df.dtypes"
      ]
    },
    {
      "cell_type": "markdown",
      "source": [
        "Notice that we can't really do much with this data because it is very messy."
      ],
      "metadata": {
        "id": "412uNbZdY3Ha"
      }
    },
    {
      "cell_type": "markdown",
      "metadata": {
        "id": "a5ZmsdQlFGYt"
      },
      "source": [
        "## Cleaning the Data"
      ]
    },
    {
      "cell_type": "markdown",
      "metadata": {
        "id": "yfb0KR3EFGYt"
      },
      "source": [
        "First lets delete the column `Unnamed: 0`, this is bascially the index, but we don't need this since `pandas` does this for us"
      ]
    },
    {
      "cell_type": "code",
      "execution_count": null,
      "metadata": {
        "id": "vHn8NyBzFGYt"
      },
      "outputs": [],
      "source": []
    },
    {
      "cell_type": "markdown",
      "source": [
        "### Expanding Columns"
      ],
      "metadata": {
        "id": "58MunM9ZZrHu"
      }
    },
    {
      "cell_type": "markdown",
      "metadata": {
        "id": "NsUOI_DdFGYw"
      },
      "source": [
        "Now lets expand some of these columns. Create the following columns - \n",
        "\n",
        "1) `Town` and `State` that are the town and state of their respectize college\n",
        "\n",
        "2) `median_sat` and `median_act` that are the sat and act of the respective college\n",
        "\n",
        "Hint: https://pandas.pydata.org/pandas-docs/stable/reference/api/pandas.Series.str.split.html"
      ]
    },
    {
      "cell_type": "code",
      "execution_count": null,
      "metadata": {
        "id": "_bQfxav66U-f"
      },
      "outputs": [],
      "source": []
    },
    {
      "cell_type": "markdown",
      "metadata": {
        "id": "TptpNodiFGYx"
      },
      "source": [
        "Notice how the original columns are still there, drop these columns inplace"
      ]
    },
    {
      "cell_type": "code",
      "source": [],
      "metadata": {
        "id": "mTdZOE6yvStM"
      },
      "execution_count": null,
      "outputs": []
    },
    {
      "cell_type": "markdown",
      "source": [
        "Try doing something similar with the `avg_time_to_a_degree` columns. How can we get rid of the string 'years'."
      ],
      "metadata": {
        "id": "4dHkiUt3ak3q"
      }
    },
    {
      "cell_type": "code",
      "source": [],
      "metadata": {
        "id": "IbEI87v0vUFQ"
      },
      "execution_count": null,
      "outputs": []
    },
    {
      "cell_type": "markdown",
      "source": [
        "### Dealing With Whitespace"
      ],
      "metadata": {
        "id": "zw5xem3naHlD"
      }
    },
    {
      "cell_type": "markdown",
      "metadata": {
        "id": "pzsKWhe0FGYx"
      },
      "source": [
        "Print out the 3rd element of the first row, what do you notice?"
      ]
    },
    {
      "cell_type": "code",
      "execution_count": null,
      "metadata": {
        "id": "_1mAQ0hjFGYx"
      },
      "outputs": [],
      "source": []
    },
    {
      "cell_type": "markdown",
      "metadata": {
        "id": "skmiGJKEFGYy"
      },
      "source": [
        "How do we get rid of the problem above? Hint: https://pandas.pydata.org/pandas-docs/stable/reference/api/pandas.Series.str.strip.html\n",
        "\n",
        "In the cell below replace all the values of columns with whitespace without any whitespace"
      ]
    },
    {
      "cell_type": "code",
      "execution_count": null,
      "metadata": {
        "id": "HDqfm-7QFGYy"
      },
      "outputs": [],
      "source": []
    },
    {
      "cell_type": "markdown",
      "metadata": {
        "id": "m3rXGAWwFGYu"
      },
      "source": [
        "### Exploring Missing Values"
      ]
    },
    {
      "cell_type": "markdown",
      "metadata": {
        "id": "Bfha1ieXFGYu"
      },
      "source": [
        "Now lets explore some of the missing values.\n",
        "\n",
        "`pandas` is smart, so it is able to detect the missing values even though we initially read them in as strings, notice how the column types are still also objects. "
      ]
    },
    {
      "cell_type": "code",
      "execution_count": null,
      "metadata": {
        "id": "j6nDnEEPFGYu"
      },
      "outputs": [],
      "source": [
        "college_df.isnull().sum()"
      ]
    },
    {
      "cell_type": "markdown",
      "source": [
        "If we look at the data we can see where some of these `NaN` values are coming from (California State University, Channel Islands)"
      ],
      "metadata": {
        "id": "cV8fnwIeZS0V"
      }
    },
    {
      "cell_type": "markdown",
      "metadata": {
        "id": "k7I1Va65FGYv"
      },
      "source": [
        "So pandas can detect the `NaN` values but how about this: https://money.com/best-colleges/profile/ringling-college-of-art-and-design/"
      ]
    },
    {
      "cell_type": "code",
      "execution_count": null,
      "metadata": {
        "id": "puQBth3ZFGYw"
      },
      "outputs": [],
      "source": [
        "np.sum(college_df['median_sat'] == 'NA') + np.sum(college_df['median_act'] == 'NA')"
      ]
    },
    {
      "cell_type": "code",
      "execution_count": null,
      "metadata": {
        "id": "tmM2FJ-uFGYy"
      },
      "outputs": [],
      "source": [
        "np.sum(college_df == 'NA', axis = 0) + np.sum(college_df == 'N/A', axis = 0)"
      ]
    },
    {
      "cell_type": "code",
      "execution_count": null,
      "metadata": {
        "id": "TMfMVI9A9Lbw"
      },
      "outputs": [],
      "source": [
        "n_cols = np.array(np.sum(college_df == 'NA', axis = 0) + np.sum(college_df == 'N/A', axis = 0)  > 0)\n",
        "n_cols"
      ]
    },
    {
      "cell_type": "code",
      "execution_count": null,
      "metadata": {
        "id": "Brm6_0Sv_OHN"
      },
      "outputs": [],
      "source": [
        "college_df.iloc[:, n_cols] = college_df.iloc[:, n_cols].replace([\"NA\", \"N/A\"], np.nan)"
      ]
    },
    {
      "cell_type": "code",
      "execution_count": null,
      "metadata": {
        "id": "-CRk5bKCAEhm"
      },
      "outputs": [],
      "source": [
        "college_df.isna().sum()"
      ]
    },
    {
      "cell_type": "markdown",
      "metadata": {
        "id": "d47cdCpMFGYw"
      },
      "source": [
        "Let will talk about how to deal with this a bit later :)"
      ]
    },
    {
      "cell_type": "markdown",
      "metadata": {
        "id": "p8uHtK7yFGYz"
      },
      "source": [
        "## Changing Series types"
      ]
    },
    {
      "cell_type": "code",
      "execution_count": null,
      "metadata": {
        "id": "PEeoBEwW8Bif"
      },
      "outputs": [],
      "source": [
        "college_df.dtypes"
      ]
    },
    {
      "cell_type": "code",
      "execution_count": null,
      "metadata": {
        "id": "5dDJzKJC_j25"
      },
      "outputs": [],
      "source": [
        "print(college_df[\"overall_score\"][0])\n",
        "type(college_df[\"overall_score\"][0])"
      ]
    },
    {
      "cell_type": "code",
      "execution_count": null,
      "metadata": {
        "id": "2K43cYjtCTFH"
      },
      "outputs": [],
      "source": [
        "college_df[\"median_sat\"] = college_df[\"median_sat\"].astype('float64')\n",
        "college_df[\"median_act\"] = college_df[\"median_act\"].astype('float64')"
      ]
    },
    {
      "cell_type": "code",
      "execution_count": null,
      "metadata": {
        "id": "MPczB1UmDSL3"
      },
      "outputs": [],
      "source": [
        "college_df.dtypes"
      ]
    },
    {
      "cell_type": "markdown",
      "metadata": {
        "id": "qtXpal4MFGY0"
      },
      "source": [
        "## Reformatting Values"
      ]
    },
    {
      "cell_type": "markdown",
      "metadata": {
        "id": "qUom2OaDEAnE"
      },
      "source": [
        "Reformat strings"
      ]
    },
    {
      "cell_type": "code",
      "execution_count": null,
      "metadata": {
        "id": "SC6cQoHhDUr-"
      },
      "outputs": [],
      "source": [
        "# write the function here, reformat()"
      ]
    },
    {
      "cell_type": "code",
      "execution_count": null,
      "metadata": {
        "id": "6bUZJYSVHJ8C"
      },
      "outputs": [],
      "source": [
        "for col in college_df.columns.difference(['overall_score', 'median_sat', 'median_act', 'avg_time_to_a_degree', 'Town', 'State', 'college_names', 'sat_act_required']):\n",
        "    college_df[col] = college_df[col].apply(reformat)"
      ]
    },
    {
      "cell_type": "code",
      "execution_count": null,
      "metadata": {
        "id": "DUY4i0XjIiJ4"
      },
      "outputs": [],
      "source": [
        "college_df.head()"
      ]
    },
    {
      "cell_type": "markdown",
      "metadata": {
        "id": "2-44hEgJLpzX"
      },
      "source": [
        "Finish changing dtypes"
      ]
    },
    {
      "cell_type": "code",
      "execution_count": null,
      "metadata": {
        "id": "MkGR40ZTIkZ9"
      },
      "outputs": [],
      "source": [
        "college_df[\"sat_act_required\"] = college_df[\"sat_act_required\"].astype('string')\n",
        "college_df[\"college_names\"] = college_df[\"college_names\"].astype('string')\n",
        "college_df[\"Town\"] = college_df[\"Town\"].astype('string')\n",
        "college_df[\"State\"] = college_df[\"State\"].astype('string')"
      ]
    },
    {
      "cell_type": "code",
      "execution_count": null,
      "metadata": {
        "id": "KBPR-TqZM6ML"
      },
      "outputs": [],
      "source": [
        "college_df.dtypes"
      ]
    },
    {
      "cell_type": "code",
      "execution_count": null,
      "metadata": {
        "id": "k4AdVi3_L9SO"
      },
      "outputs": [],
      "source": [
        "for col in college_df.columns.difference(['overall_score', 'median_sat', 'median_act', 'avg_time_to_a_degree', 'Town', 'State', 'college_names', 'sat_act_required']):\n",
        "    college_df[col] = college_df[col].astype('float64')"
      ]
    },
    {
      "cell_type": "code",
      "execution_count": null,
      "metadata": {
        "id": "0mtbRFs9NJpN"
      },
      "outputs": [],
      "source": [
        "college_df.dtypes"
      ]
    },
    {
      "cell_type": "markdown",
      "source": [
        "### Imputing Missing Values"
      ],
      "metadata": {
        "id": "KhFeM6jta0Cc"
      }
    },
    {
      "cell_type": "code",
      "execution_count": null,
      "metadata": {
        "id": "zujKlEdSFGY2"
      },
      "outputs": [],
      "source": [
        "college_df.isnull().sum()"
      ]
    },
    {
      "cell_type": "code",
      "source": [
        "college_df.median()"
      ],
      "metadata": {
        "id": "VS1tZvWkeoag"
      },
      "execution_count": null,
      "outputs": []
    },
    {
      "cell_type": "code",
      "execution_count": null,
      "metadata": {
        "id": "V20sD9PcNK1L"
      },
      "outputs": [],
      "source": [
        "college_df = college_df.fillna(college_df.median()) "
      ]
    },
    {
      "cell_type": "code",
      "execution_count": null,
      "metadata": {
        "id": "ttffDncMPd6I"
      },
      "outputs": [],
      "source": [
        "college_df.isna().sum()"
      ]
    },
    {
      "cell_type": "markdown",
      "source": [
        "### Renaming Columns"
      ],
      "metadata": {
        "id": "m6Sin7fWa4sk"
      }
    },
    {
      "cell_type": "code",
      "execution_count": null,
      "metadata": {
        "id": "YpfMlQcLYoRO"
      },
      "outputs": [],
      "source": [
        "college_df.rename(columns = {'avg_time_to_a_degree':'avg_time_to_a_degree_years'}, inplace = True)"
      ]
    },
    {
      "cell_type": "markdown",
      "source": [
        "### Saving a file"
      ],
      "metadata": {
        "id": "RxihhleSa8Uu"
      }
    },
    {
      "cell_type": "code",
      "execution_count": null,
      "metadata": {
        "id": "jQg8z6btPhdE"
      },
      "outputs": [],
      "source": [
        "college_df.to_csv(\"colleges_dataset_cleaned.csv\")"
      ]
    },
    {
      "cell_type": "code",
      "source": [],
      "metadata": {
        "id": "LQT7avfFGlSG"
      },
      "execution_count": null,
      "outputs": []
    }
  ],
  "metadata": {
    "colab": {
      "provenance": []
    },
    "kernelspec": {
      "display_name": "Python 3",
      "language": "python",
      "name": "python3"
    },
    "language_info": {
      "codemirror_mode": {
        "name": "ipython",
        "version": 3
      },
      "file_extension": ".py",
      "mimetype": "text/x-python",
      "name": "python",
      "nbconvert_exporter": "python",
      "pygments_lexer": "ipython3",
      "version": "3.8.2"
    }
  },
  "nbformat": 4,
  "nbformat_minor": 0
}